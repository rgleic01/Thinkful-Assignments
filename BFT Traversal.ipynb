{
 "cells": [
  {
   "cell_type": "code",
   "execution_count": 12,
   "metadata": {},
   "outputs": [
    {
     "name": "stdout",
     "output_type": "stream",
     "text": [
      "<__main__.Node object at 0x10f9925f8>\n",
      "<__main__.Node object at 0x10f992828><__main__.Node object at 0x10f992710>\n",
      "<__main__.Node object at 0x10f9926d8><__main__.Node object at 0x10f9927b8><__main__.Node object at 0x10f992748><__main__.Node object at 0x10f992630>\n"
     ]
    }
   ],
   "source": [
    "from collections import deque\n",
    "\n",
    "class Node:\n",
    "    def __init__(self, val):\n",
    "        self.left = None\n",
    "        self.right = None\n",
    "        self.val = val\n",
    "        \n",
    "# Establish the initial root node and children\n",
    "root = Node('A')\n",
    "root.left = Node('B')\n",
    "root.right = Node('C')\n",
    "\n",
    "# Add the appropriate children for ‘B’ and ‘C’\n",
    "root.left.left = Node('D')\n",
    "root.left.right = Node('E')\n",
    "root.right.left = Node('F')\n",
    "root.right.right = Node('G')\n",
    "\n",
    "def BFT(node):\n",
    "    node.level = 1\n",
    "    queue = deque([node])\n",
    "    output = []\n",
    "    current_level = node.level\n",
    "\n",
    "    while len(queue)>0:\n",
    "\n",
    "          current_node = queue.popleft()\n",
    "\n",
    "          if(current_node.level > current_level):\n",
    "              output.append(\"\\n\")\n",
    "              current_level += 1\n",
    "\n",
    "          output.append(str(current_node))\n",
    "\n",
    "          if current_node.left != None:\n",
    "             current_node.left.level = current_level + 1 \n",
    "             queue.append(current_node.left) \n",
    "\n",
    "          if current_node.right != None:\n",
    "             current_node.right.level = current_level + 1 \n",
    "             queue.append(current_node.right)\n",
    " \n",
    "    return ''.join(output)\n",
    "\n",
    "root = Node(9)\n",
    "root.left = Node(2)\n",
    "root.right = Node(4)\n",
    "\n",
    "root.left.left = Node(1)\n",
    "root.left.right = Node(3)\n",
    "\n",
    "root.right.left = Node(5)\n",
    "root.right.right = Node(7)\n",
    "\n",
    "print(BFT(root))"
   ]
  },
  {
   "cell_type": "code",
   "execution_count": null,
   "metadata": {},
   "outputs": [],
   "source": []
  }
 ],
 "metadata": {
  "kernelspec": {
   "display_name": "Python 3",
   "language": "python",
   "name": "python3"
  },
  "language_info": {
   "codemirror_mode": {
    "name": "ipython",
    "version": 3
   },
   "file_extension": ".py",
   "mimetype": "text/x-python",
   "name": "python",
   "nbconvert_exporter": "python",
   "pygments_lexer": "ipython3",
   "version": "3.7.0"
  }
 },
 "nbformat": 4,
 "nbformat_minor": 2
}
