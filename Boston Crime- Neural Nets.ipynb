{
 "cells": [
  {
   "cell_type": "markdown",
   "metadata": {},
   "source": [
    "In this project, I'm using Boston Crime data (district, date, reporting area, etc.) to predict the nature of a crime (its offense code group)."
   ]
  },
  {
   "cell_type": "code",
   "execution_count": 1,
   "metadata": {},
   "outputs": [
    {
     "name": "stdout",
     "output_type": "stream",
     "text": [
      "Dataset dimensions: (319073, 16)\n",
      "OFFENSE_CODE_GROUP: 67\n",
      "OFFENSE_DESCRIPTION: 244\n",
      "DISTRICT: 12\n",
      "REPORTING_AREA: 879\n",
      "SHOOTING: 1\n",
      "OCCURRED_ON_DATE: 233229\n",
      "DAY_OF_WEEK: 7\n",
      "UCR_PART: 4\n",
      "STREET: 4657\n",
      "Location: 18194\n",
      "OFFENSE_CODE             int64\n",
      "OFFENSE_CODE_GROUP      object\n",
      "OFFENSE_DESCRIPTION     object\n",
      "DISTRICT                object\n",
      "REPORTING_AREA          object\n",
      "SHOOTING                  bool\n",
      "OCCURRED_ON_DATE        object\n",
      "YEAR                     int64\n",
      "MONTH                    int64\n",
      "DAY_OF_WEEK             object\n",
      "HOUR                     int64\n",
      "UCR_PART                object\n",
      "STREET                  object\n",
      "Lat                    float64\n",
      "Long                   float64\n",
      "Location                object\n",
      "dtype: object\n"
     ]
    },
    {
     "data": {
      "text/html": [
       "<div>\n",
       "<style scoped>\n",
       "    .dataframe tbody tr th:only-of-type {\n",
       "        vertical-align: middle;\n",
       "    }\n",
       "\n",
       "    .dataframe tbody tr th {\n",
       "        vertical-align: top;\n",
       "    }\n",
       "\n",
       "    .dataframe thead th {\n",
       "        text-align: right;\n",
       "    }\n",
       "</style>\n",
       "<table border=\"1\" class=\"dataframe\">\n",
       "  <thead>\n",
       "    <tr style=\"text-align: right;\">\n",
       "      <th></th>\n",
       "      <th>OFFENSE_CODE</th>\n",
       "      <th>OFFENSE_CODE_GROUP</th>\n",
       "      <th>OFFENSE_DESCRIPTION</th>\n",
       "      <th>DISTRICT</th>\n",
       "      <th>REPORTING_AREA</th>\n",
       "      <th>SHOOTING</th>\n",
       "      <th>OCCURRED_ON_DATE</th>\n",
       "      <th>YEAR</th>\n",
       "      <th>MONTH</th>\n",
       "      <th>DAY_OF_WEEK</th>\n",
       "      <th>HOUR</th>\n",
       "      <th>UCR_PART</th>\n",
       "      <th>STREET</th>\n",
       "      <th>Lat</th>\n",
       "      <th>Long</th>\n",
       "      <th>Location</th>\n",
       "    </tr>\n",
       "    <tr>\n",
       "      <th>INCIDENT_NUMBER</th>\n",
       "      <th></th>\n",
       "      <th></th>\n",
       "      <th></th>\n",
       "      <th></th>\n",
       "      <th></th>\n",
       "      <th></th>\n",
       "      <th></th>\n",
       "      <th></th>\n",
       "      <th></th>\n",
       "      <th></th>\n",
       "      <th></th>\n",
       "      <th></th>\n",
       "      <th></th>\n",
       "      <th></th>\n",
       "      <th></th>\n",
       "      <th></th>\n",
       "    </tr>\n",
       "  </thead>\n",
       "  <tbody>\n",
       "    <tr>\n",
       "      <th>I182070945</th>\n",
       "      <td>619</td>\n",
       "      <td>Larceny</td>\n",
       "      <td>LARCENY ALL OTHERS</td>\n",
       "      <td>D14</td>\n",
       "      <td>808</td>\n",
       "      <td>False</td>\n",
       "      <td>2018-09-02 13:00:00</td>\n",
       "      <td>2018</td>\n",
       "      <td>9</td>\n",
       "      <td>Sunday</td>\n",
       "      <td>13</td>\n",
       "      <td>Part One</td>\n",
       "      <td>LINCOLN ST</td>\n",
       "      <td>42.357791</td>\n",
       "      <td>-71.139371</td>\n",
       "      <td>(42.35779134, -71.13937053)</td>\n",
       "    </tr>\n",
       "    <tr>\n",
       "      <th>I182070943</th>\n",
       "      <td>1402</td>\n",
       "      <td>Vandalism</td>\n",
       "      <td>VANDALISM</td>\n",
       "      <td>C11</td>\n",
       "      <td>347</td>\n",
       "      <td>False</td>\n",
       "      <td>2018-08-21 00:00:00</td>\n",
       "      <td>2018</td>\n",
       "      <td>8</td>\n",
       "      <td>Tuesday</td>\n",
       "      <td>0</td>\n",
       "      <td>Part Two</td>\n",
       "      <td>HECLA ST</td>\n",
       "      <td>42.306821</td>\n",
       "      <td>-71.060300</td>\n",
       "      <td>(42.30682138, -71.06030035)</td>\n",
       "    </tr>\n",
       "    <tr>\n",
       "      <th>I182070941</th>\n",
       "      <td>3410</td>\n",
       "      <td>Towed</td>\n",
       "      <td>TOWED MOTOR VEHICLE</td>\n",
       "      <td>D4</td>\n",
       "      <td>151</td>\n",
       "      <td>False</td>\n",
       "      <td>2018-09-03 19:27:00</td>\n",
       "      <td>2018</td>\n",
       "      <td>9</td>\n",
       "      <td>Monday</td>\n",
       "      <td>19</td>\n",
       "      <td>Part Three</td>\n",
       "      <td>CAZENOVE ST</td>\n",
       "      <td>42.346589</td>\n",
       "      <td>-71.072429</td>\n",
       "      <td>(42.34658879, -71.07242943)</td>\n",
       "    </tr>\n",
       "    <tr>\n",
       "      <th>I182070940</th>\n",
       "      <td>3114</td>\n",
       "      <td>Investigate Property</td>\n",
       "      <td>INVESTIGATE PROPERTY</td>\n",
       "      <td>D4</td>\n",
       "      <td>272</td>\n",
       "      <td>False</td>\n",
       "      <td>2018-09-03 21:16:00</td>\n",
       "      <td>2018</td>\n",
       "      <td>9</td>\n",
       "      <td>Monday</td>\n",
       "      <td>21</td>\n",
       "      <td>Part Three</td>\n",
       "      <td>NEWCOMB ST</td>\n",
       "      <td>42.334182</td>\n",
       "      <td>-71.078664</td>\n",
       "      <td>(42.33418175, -71.07866441)</td>\n",
       "    </tr>\n",
       "    <tr>\n",
       "      <th>I182070938</th>\n",
       "      <td>3114</td>\n",
       "      <td>Investigate Property</td>\n",
       "      <td>INVESTIGATE PROPERTY</td>\n",
       "      <td>B3</td>\n",
       "      <td>421</td>\n",
       "      <td>False</td>\n",
       "      <td>2018-09-03 21:05:00</td>\n",
       "      <td>2018</td>\n",
       "      <td>9</td>\n",
       "      <td>Monday</td>\n",
       "      <td>21</td>\n",
       "      <td>Part Three</td>\n",
       "      <td>DELHI ST</td>\n",
       "      <td>42.275365</td>\n",
       "      <td>-71.090361</td>\n",
       "      <td>(42.27536542, -71.09036101)</td>\n",
       "    </tr>\n",
       "  </tbody>\n",
       "</table>\n",
       "</div>"
      ],
      "text/plain": [
       "                 OFFENSE_CODE    OFFENSE_CODE_GROUP   OFFENSE_DESCRIPTION  \\\n",
       "INCIDENT_NUMBER                                                             \n",
       "I182070945                619               Larceny    LARCENY ALL OTHERS   \n",
       "I182070943               1402             Vandalism             VANDALISM   \n",
       "I182070941               3410                 Towed   TOWED MOTOR VEHICLE   \n",
       "I182070940               3114  Investigate Property  INVESTIGATE PROPERTY   \n",
       "I182070938               3114  Investigate Property  INVESTIGATE PROPERTY   \n",
       "\n",
       "                DISTRICT REPORTING_AREA  SHOOTING     OCCURRED_ON_DATE  YEAR  \\\n",
       "INCIDENT_NUMBER                                                                \n",
       "I182070945           D14            808     False  2018-09-02 13:00:00  2018   \n",
       "I182070943           C11            347     False  2018-08-21 00:00:00  2018   \n",
       "I182070941            D4            151     False  2018-09-03 19:27:00  2018   \n",
       "I182070940            D4            272     False  2018-09-03 21:16:00  2018   \n",
       "I182070938            B3            421     False  2018-09-03 21:05:00  2018   \n",
       "\n",
       "                 MONTH DAY_OF_WEEK  HOUR    UCR_PART       STREET        Lat  \\\n",
       "INCIDENT_NUMBER                                                                \n",
       "I182070945           9      Sunday    13    Part One   LINCOLN ST  42.357791   \n",
       "I182070943           8     Tuesday     0    Part Two     HECLA ST  42.306821   \n",
       "I182070941           9      Monday    19  Part Three  CAZENOVE ST  42.346589   \n",
       "I182070940           9      Monday    21  Part Three   NEWCOMB ST  42.334182   \n",
       "I182070938           9      Monday    21  Part Three     DELHI ST  42.275365   \n",
       "\n",
       "                      Long                     Location  \n",
       "INCIDENT_NUMBER                                          \n",
       "I182070945      -71.139371  (42.35779134, -71.13937053)  \n",
       "I182070943      -71.060300  (42.30682138, -71.06030035)  \n",
       "I182070941      -71.072429  (42.34658879, -71.07242943)  \n",
       "I182070940      -71.078664  (42.33418175, -71.07866441)  \n",
       "I182070938      -71.090361  (42.27536542, -71.09036101)  "
      ]
     },
     "execution_count": 1,
     "metadata": {},
     "output_type": "execute_result"
    }
   ],
   "source": [
    "import pandas as pd\n",
    "import numpy as np\n",
    "import matplotlib.pyplot as plt\n",
    "import seaborn as sns\n",
    "%matplotlib inline\n",
    "\n",
    "crime = pd.read_csv(\"crime.csv\", encoding = \"ISO-8859-1\")\n",
    "crime = crime.set_index('INCIDENT_NUMBER')\n",
    "print(\"Dataset dimensions: \" + str(crime.shape))\n",
    "categorical = crime.select_dtypes(include=['object'])\n",
    "for i in categorical:\n",
    "    column = categorical[i]\n",
    "    print(i + \": \"  + str(column.nunique()))\n",
    "\n",
    "crime['SHOOTING'] = crime['SHOOTING'].notnull()\n",
    "#crime.isna().any()\n",
    "print(crime.dtypes)\n",
    "crime.head()"
   ]
  },
  {
   "cell_type": "code",
   "execution_count": 2,
   "metadata": {},
   "outputs": [
    {
     "name": "stdout",
     "output_type": "stream",
     "text": [
      "number of dropped NaN's (out of 319073): 22500\n"
     ]
    }
   ],
   "source": [
    "#Create tuple from latitude & longitude\n",
    "#crime['LAT_LONG'] = list(zip(crime.Lat, crime.Long))\n",
    "crime = crime.dropna()\n",
    "print(\"number of dropped NaN\\'s (out of 319073): {}\".format(319073 - len(crime)))\n",
    "\n",
    "# column drops and NA drop.\n",
    "X = crime.drop(['OFFENSE_CODE', 'OFFENSE_CODE_GROUP', \n",
    "                'OFFENSE_DESCRIPTION', 'DISTRICT', \n",
    "                'REPORTING_AREA', 'STREET', 'Location', \n",
    "                'OCCURRED_ON_DATE', 'DAY_OF_WEEK', \n",
    "                'Lat', 'Long', 'UCR_PART', 'SHOOTING'], 1)\n",
    "\n",
    "\n",
    "# Convert OCCURED_ON_DATE to datetime\n",
    "#X['Date'] = pd.to_datetime(crime.OCCURRED_ON_DATE)"
   ]
  },
  {
   "cell_type": "code",
   "execution_count": 3,
   "metadata": {},
   "outputs": [
    {
     "name": "stdout",
     "output_type": "stream",
     "text": [
      "YEAR         int64\n",
      "MONTH        int64\n",
      "HOUR         int64\n",
      "A1           uint8\n",
      "A15          uint8\n",
      "A7           uint8\n",
      "B2           uint8\n",
      "B3           uint8\n",
      "C11          uint8\n",
      "C6           uint8\n",
      "D14          uint8\n",
      "D4           uint8\n",
      "E13          uint8\n",
      "E18          uint8\n",
      "E5           uint8\n",
      "Friday       uint8\n",
      "Monday       uint8\n",
      "Saturday     uint8\n",
      "Sunday       uint8\n",
      "Thursday     uint8\n",
      "Tuesday      uint8\n",
      "Wednesday    uint8\n",
      "             uint8\n",
      "000          uint8\n",
      "1            uint8\n",
      "10           uint8\n",
      "100          uint8\n",
      "101          uint8\n",
      "102          uint8\n",
      "103          uint8\n",
      "             ...  \n",
      "939          uint8\n",
      "94           uint8\n",
      "940          uint8\n",
      "941          uint8\n",
      "942          uint8\n",
      "943          uint8\n",
      "944          uint8\n",
      "945          uint8\n",
      "946          uint8\n",
      "948          uint8\n",
      "949          uint8\n",
      "95           uint8\n",
      "950          uint8\n",
      "951          uint8\n",
      "952          uint8\n",
      "953          uint8\n",
      "954          uint8\n",
      "956          uint8\n",
      "957          uint8\n",
      "958          uint8\n",
      "959          uint8\n",
      "96           uint8\n",
      "960          uint8\n",
      "961          uint8\n",
      "962          uint8\n",
      "97           uint8\n",
      "98           uint8\n",
      "99           uint8\n",
      "False        uint8\n",
      "True         uint8\n",
      "Length: 903, dtype: object\n"
     ]
    }
   ],
   "source": [
    "# Create dummies separately.\n",
    "districts = pd.get_dummies(crime.DISTRICT)\n",
    "streets = pd.get_dummies(crime.STREET)\n",
    "days_of_week = pd.get_dummies(crime.DAY_OF_WEEK)\n",
    "reporting_areas = pd.get_dummies(crime.REPORTING_AREA)\n",
    "shooting = pd.get_dummies(crime.SHOOTING)\n",
    "\n",
    "\n",
    "# Concat with other variables\n",
    "X = pd.get_dummies(X, sparse=True)\n",
    "#print(X.dtypes)\n",
    "X = pd.concat([X, districts, days_of_week, reporting_areas, shooting], axis=1)\n",
    "\n",
    "print(X.dtypes)\n",
    "\n",
    "Y = crime.OFFENSE_CODE_GROUP\n",
    "\n",
    "#print(X.dtypes)"
   ]
  },
  {
   "cell_type": "code",
   "execution_count": 4,
   "metadata": {},
   "outputs": [
    {
     "data": {
      "text/plain": [
       "MLPClassifier(activation='relu', alpha=0.0001, batch_size='auto', beta_1=0.9,\n",
       "       beta_2=0.999, early_stopping=False, epsilon=1e-08,\n",
       "       hidden_layer_sizes=(100,), learning_rate='constant',\n",
       "       learning_rate_init=0.001, max_iter=200, momentum=0.9,\n",
       "       nesterovs_momentum=True, power_t=0.5, random_state=None,\n",
       "       shuffle=True, solver='adam', tol=0.0001, validation_fraction=0.1,\n",
       "       verbose=False, warm_start=False)"
      ]
     },
     "execution_count": 4,
     "metadata": {},
     "output_type": "execute_result"
    }
   ],
   "source": [
    "# Import the model.\n",
    "from sklearn.neural_network import MLPClassifier\n",
    "\n",
    "# Establish and fit the model, with a single, 100 perceptron layer.\n",
    "mlp = MLPClassifier(hidden_layer_sizes=(100,))\n",
    "mlp.fit(X, Y)"
   ]
  },
  {
   "cell_type": "code",
   "execution_count": 5,
   "metadata": {},
   "outputs": [
    {
     "data": {
      "text/plain": [
       "0.15710803073779475"
      ]
     },
     "execution_count": 5,
     "metadata": {},
     "output_type": "execute_result"
    }
   ],
   "source": [
    "mlp.score(X,Y)"
   ]
  },
  {
   "cell_type": "code",
   "execution_count": 44,
   "metadata": {},
   "outputs": [
    {
     "name": "stderr",
     "output_type": "stream",
     "text": [
      "/Users/robgleich/anaconda3/lib/python3.7/site-packages/sklearn/model_selection/_split.py:605: Warning: The least populated class in y has only 1 members, which is too few. The minimum number of members in any class cannot be less than n_splits=5.\n",
      "  % (min_groups, self.n_splits)), Warning)\n",
      "/Users/robgleich/anaconda3/lib/python3.7/site-packages/sklearn/neural_network/multilayer_perceptron.py:566: UserWarning: Training interrupted by user.\n",
      "  warnings.warn(\"Training interrupted by user.\")\n"
     ]
    },
    {
     "data": {
      "text/plain": [
       "array([0.07769474, 0.08204428, 0.07722529, 0.08025847, 0.07905532])"
      ]
     },
     "execution_count": 44,
     "metadata": {},
     "output_type": "execute_result"
    }
   ],
   "source": [
    "from sklearn.model_selection import cross_val_score\n",
    "cross_val_score(mlp, X, Y, cv=5)"
   ]
  },
  {
   "cell_type": "code",
   "execution_count": 57,
   "metadata": {},
   "outputs": [
    {
     "name": "stderr",
     "output_type": "stream",
     "text": [
      "/Users/robgleich/anaconda3/lib/python3.7/site-packages/sklearn/ensemble/weight_boosting.py:29: DeprecationWarning: numpy.core.umath_tests is an internal NumPy module and should not be imported. It will be removed in a future NumPy release.\n",
      "  from numpy.core.umath_tests import inner1d\n",
      "/Users/robgleich/anaconda3/lib/python3.7/site-packages/sklearn/model_selection/_split.py:605: Warning: The least populated class in y has only 1 members, which is too few. The minimum number of members in any class cannot be less than n_splits=5.\n",
      "  % (min_groups, self.n_splits)), Warning)\n"
     ]
    },
    {
     "data": {
      "text/plain": [
       "array([0.05167306, 0.04856267, 0.04343501, 0.03008216, 0.02726337])"
      ]
     },
     "execution_count": 57,
     "metadata": {},
     "output_type": "execute_result"
    }
   ],
   "source": [
    "from sklearn import ensemble\n",
    "rfc = ensemble.RandomForestClassifier()\n",
    "cross_val_score(rfc, X, Y, cv=5)\n"
   ]
  },
  {
   "cell_type": "code",
   "execution_count": null,
   "metadata": {},
   "outputs": [],
   "source": []
  }
 ],
 "metadata": {
  "kernelspec": {
   "display_name": "Python 3",
   "language": "python",
   "name": "python3"
  },
  "language_info": {
   "codemirror_mode": {
    "name": "ipython",
    "version": 3
   },
   "file_extension": ".py",
   "mimetype": "text/x-python",
   "name": "python",
   "nbconvert_exporter": "python",
   "pygments_lexer": "ipython3",
   "version": "3.7.0"
  }
 },
 "nbformat": 4,
 "nbformat_minor": 2
}
