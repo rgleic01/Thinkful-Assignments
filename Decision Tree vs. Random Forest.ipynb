{
 "cells": [
  {
   "cell_type": "code",
   "execution_count": 35,
   "metadata": {},
   "outputs": [],
   "source": [
    "import numpy as np\n",
    "import pandas as pd\n",
    "import time\n",
    "from sklearn.datasets import *\n",
    "import matplotlib.pyplot as plt\n",
    "%matplotlib inline\n",
    "\n",
    "boston = load_boston()\n",
    "boston_df = pd.DataFrame(boston['data'])\n",
    "boston_df.columns = boston['feature_names']\n",
    "boston_df['Price'] = boston['target']\n",
    "boston_df=(boston_df-boston_df.mean())/boston_df.std()\n",
    "\n",
    "X = boston_df.drop('Price', axis=1)\n",
    "y = boston_df['Price']\n"
   ]
  },
  {
   "cell_type": "code",
   "execution_count": 36,
   "metadata": {},
   "outputs": [
    {
     "name": "stdout",
     "output_type": "stream",
     "text": [
      "Accuracy: 0.33 (+/- 0.74)\n",
      "--- 0.04579305648803711 seconds ---\n"
     ]
    }
   ],
   "source": [
    "#Decision tree\n",
    "\n",
    "from sklearn.tree import DecisionTreeRegressor\n",
    "\n",
    "start_time = time.time()\n",
    "dtr = DecisionTreeRegressor()\n",
    "dtr.fit(X, y)\n",
    "tree_scores = cross_val_score(dtr, X, y, cv=5)\n",
    "print(\"Accuracy: %0.2f (+/- %0.2f)\" % (tree_scores.mean(), tree_scores.std() * 2))\n",
    "print(\"--- %s seconds ---\" % (time.time() - start_time))\n"
   ]
  },
  {
   "cell_type": "code",
   "execution_count": 37,
   "metadata": {},
   "outputs": [
    {
     "name": "stdout",
     "output_type": "stream",
     "text": [
      "Accuracy: 0.50 (+/- 0.52)\n",
      "--- 0.37180519104003906 seconds ---\n"
     ]
    }
   ],
   "source": [
    "#Random Forest\n",
    "from sklearn import ensemble\n",
    "from sklearn.model_selection import cross_val_score\n",
    "\n",
    "start_time = time.time()\n",
    "rfc = ensemble.RandomForestRegressor()\n",
    "forest_scores = cross_val_score(rfc, X, y, cv=10)\n",
    "print(\"Accuracy: %0.2f (+/- %0.2f)\" % (forest_scores.mean(), forest_scores.std() * 2))\n",
    "print(\"--- %s seconds ---\" % (time.time() - start_time))\n",
    "\n"
   ]
  },
  {
   "cell_type": "markdown",
   "metadata": {},
   "source": [
    "As expected, the random forest was more accurate (51%) than the decision tree and took longer to compute (8.2x longer). "
   ]
  }
 ],
 "metadata": {
  "kernelspec": {
   "display_name": "Python 3",
   "language": "python",
   "name": "python3"
  },
  "language_info": {
   "codemirror_mode": {
    "name": "ipython",
    "version": 3
   },
   "file_extension": ".py",
   "mimetype": "text/x-python",
   "name": "python",
   "nbconvert_exporter": "python",
   "pygments_lexer": "ipython3",
   "version": "3.7.0"
  }
 },
 "nbformat": 4,
 "nbformat_minor": 2
}
