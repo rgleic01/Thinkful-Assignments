{
 "cells": [
  {
   "cell_type": "code",
   "execution_count": 98,
   "metadata": {},
   "outputs": [],
   "source": [
    "%matplotlib inline\n",
    "import numpy as np\n",
    "import pandas as pd\n",
    "import scipy\n",
    "import sklearn\n",
    "import matplotlib.pyplot as plt\n",
    "import seaborn as sns\n",
    "\n",
    "# Grab and process the raw data.\n",
    "text_raw = pd.read_csv('imdb_labelled.txt', delimiter= '\\t', header=None)\n",
    "text_raw.columns = ['message', 'sentiment']"
   ]
  },
  {
   "cell_type": "code",
   "execution_count": 99,
   "metadata": {},
   "outputs": [],
   "source": [
    "#model 1: 29 keywords\n",
    "keywords = ['boring', 'awful', 'sucked', 'too', 'lame', 'contrived', \n",
    "            'derivative', 'predictable', 'dumb', 'stupid', 'insipid',  \n",
    "            'unfunny', 'disappointed', 'pretentious', 'bad', 'waste', 'artless', \n",
    "            'appalling', 'don\\'t', 'lousy', 'amateurish', 'lacks', 'lacked', \n",
    "            'trash', 'cheap', 'worst', 'dry', 'terrible', 'annoying']\n",
    "\n",
    "for key in keywords:\n",
    "    # Note that we add spaces around the key so that we're getting the word,\n",
    "    # not just pattern matching.\n",
    "    text_raw[str(key)] = text_raw.message.str.contains(\n",
    "        ' ' + str(key) + ' ',\n",
    "        case=False\n",
    "    )"
   ]
  },
  {
   "cell_type": "code",
   "execution_count": 100,
   "metadata": {},
   "outputs": [],
   "source": [
    "text_raw['sentiment'] = (text_raw['sentiment'] == 0)"
   ]
  },
  {
   "cell_type": "code",
   "execution_count": 101,
   "metadata": {},
   "outputs": [
    {
     "data": {
      "image/png": "[encoded data removed]",
      "text/plain": [
       "<Figure size 432x288 with 2 Axes>"
      ]
     },
     "metadata": {
      "needs_background": "light"
     },
     "output_type": "display_data"
    }
   ],
   "source": [
    "sns.heatmap(text_raw.corr())\n",
    "plt.show()"
   ]
  },
  {
   "cell_type": "code",
   "execution_count": 102,
   "metadata": {},
   "outputs": [
    {
     "name": "stdout",
     "output_type": "stream",
     "text": [
      "accuracy: 0.6176470588235294\n"
     ]
    }
   ],
   "source": [
    "data = text_raw[keywords]\n",
    "target = text_raw['sentiment']\n",
    "\n",
    "# Instantiate, fit, classify\n",
    "from sklearn.naive_bayes import BernoulliNB\n",
    "bnb = BernoulliNB()\n",
    "bnb.fit(data, target)\n",
    "y_pred = bnb.predict(data)\n",
    "\n",
    "print(\"accuracy: {}\".format(\n",
    "    (1 - target != y_pred).sum() / data.shape[0]\n",
    "))"
   ]
  },
  {
   "cell_type": "code",
   "execution_count": 103,
   "metadata": {},
   "outputs": [
    {
     "name": "stdout",
     "output_type": "stream",
     "text": [
      "With 20% Holdout: 0.5866\n",
      "With 40% Holdout: 0.6\n",
      "With 60% Holdout: 0.6124\n",
      "With 80% Holdout: 0.5826\n",
      "Testing on Sample: 0.617\n",
      "\n",
      "\n",
      "20-fold cross-validation:\n",
      "[0.61538462 0.46153846 0.60526316 0.60526316 0.60526316 0.57894737\n",
      " 0.64864865 0.62162162 0.67567568 0.59459459 0.54054054 0.64864865\n",
      " 0.62162162 0.64864865 0.59459459 0.64864865 0.48648649 0.75675676\n",
      " 0.72972973 0.62162162]\n",
      "\n",
      "\n",
      "confusion matrix: \n",
      "[[373  13]\n",
      " [273  89]]\n"
     ]
    }
   ],
   "source": [
    "from sklearn.model_selection import train_test_split\n",
    "# Use train_test_split to create the necessary training and test groups\n",
    "X_train, X_test, y_train, y_test = train_test_split(data, target, test_size=0.2, random_state=20)\n",
    "print('With 20% Holdout: ' + str(bnb.fit(X_train, y_train).score(X_test, y_test))[:6])\n",
    "X_train, X_test, y_train, y_test = train_test_split(data, target, test_size=0.4, random_state=20)\n",
    "print('With 40% Holdout: ' + str(bnb.fit(X_train, y_train).score(X_test, y_test))[:6])\n",
    "X_train, X_test, y_train, y_test = train_test_split(data, target, test_size=0.6, random_state=20)\n",
    "print('With 60% Holdout: ' + str(bnb.fit(X_train, y_train).score(X_test, y_test))[:6])\n",
    "X_train, X_test, y_train, y_test = train_test_split(data, target, test_size=0.8, random_state=20)\n",
    "print('With 80% Holdout: ' + str(bnb.fit(X_train, y_train).score(X_test, y_test))[:6])\n",
    "print('Testing on Sample: ' + str(bnb.fit(data, target).score(data, target))[:5])\n",
    "print('\\n')\n",
    "\n",
    "#perform 20-fold cross-validation\n",
    "from sklearn.model_selection import cross_val_score\n",
    "print(\"20-fold cross-validation:\")\n",
    "print(cross_val_score(bnb, data, target, cv=20))\n",
    "print('\\n')\n",
    "\n",
    "#use 2x2 confusion matrix\n",
    "from sklearn.metrics import confusion_matrix\n",
    "print(\"confusion matrix: \")\n",
    "print(confusion_matrix(target, y_pred))"
   ]
  },
  {
   "cell_type": "markdown",
   "metadata": {},
   "source": [
    "Model 1 (29 features) returned many more false negatives than false positives, which indicates underfitting of the data. However, the cross-validation showed a wide range in results, which indicates over-fitting. For model 2 I'll add an additional 10 features. "
   ]
  },
  {
   "cell_type": "code",
   "execution_count": 104,
   "metadata": {},
   "outputs": [
    {
     "name": "stdout",
     "output_type": "stream",
     "text": [
      "accuracy after adding features: 0.6377005347593583\n",
      "\n",
      "\n",
      "With 20% Holdout: 0.6133\n",
      "With 40% Holdout: 0.61\n",
      "With 60% Holdout: 0.6213\n",
      "With 80% Holdout: 0.5993\n",
      "Testing on Sample: 0.637\n",
      "\n",
      "\n",
      "20-fold cross-validation:\n",
      "[0.61538462 0.51282051 0.60526316 0.63157895 0.57894737 0.57894737\n",
      " 0.67567568 0.62162162 0.72972973 0.7027027  0.56756757 0.67567568\n",
      " 0.62162162 0.67567568 0.62162162 0.64864865 0.45945946 0.72972973\n",
      " 0.75675676 0.59459459]\n",
      "\n",
      "\n",
      "confusion matrix: \n",
      "[[115 247]\n",
      " [ 24 362]]\n"
     ]
    }
   ],
   "source": [
    "#model 2: 39 keywords\n",
    "add_list = ['utterly', 'premise', 'moronic', 'not', 'torture', 'unconvincing', \n",
    "            'flawed', 'unwatchable', 'offensive', 'failed']\n",
    "\n",
    "augmented_keywords = keywords.copy()\n",
    "\n",
    "for word in add_list:\n",
    "    augmented_keywords.append(word)\n",
    "\n",
    "for key in augmented_keywords:\n",
    "    text_raw[str(key)] = text_raw.message.str.contains(\n",
    "        ' ' + str(key) + ' ',\n",
    "        case=False\n",
    "    )\n",
    "text_raw['sentiment'] = (text_raw['sentiment'] == 0)\n",
    "    \n",
    "data = text_raw[augmented_keywords]\n",
    "target = text_raw['sentiment']\n",
    "\n",
    "from sklearn.naive_bayes import BernoulliNB\n",
    "bnb = BernoulliNB()\n",
    "bnb.fit(data, target)\n",
    "y_pred = bnb.predict(data)\n",
    "print(\"accuracy after adding features: {}\".format(\n",
    "    (1 - target != y_pred).sum() / data.shape[0]\n",
    "))\n",
    "print('\\n')\n",
    "\n",
    "# Use train_test_split to create the necessary training and test groups\n",
    "X_train, X_test, y_train, y_test = train_test_split(data, target, test_size=0.2, random_state=20)\n",
    "print('With 20% Holdout: ' + str(bnb.fit(X_train, y_train).score(X_test, y_test))[:6])\n",
    "X_train, X_test, y_train, y_test = train_test_split(data, target, test_size=0.4, random_state=20)\n",
    "print('With 40% Holdout: ' + str(bnb.fit(X_train, y_train).score(X_test, y_test))[:6])\n",
    "X_train, X_test, y_train, y_test = train_test_split(data, target, test_size=0.6, random_state=20)\n",
    "print('With 60% Holdout: ' + str(bnb.fit(X_train, y_train).score(X_test, y_test))[:6])\n",
    "X_train, X_test, y_train, y_test = train_test_split(data, target, test_size=0.8, random_state=20)\n",
    "print('With 80% Holdout: ' + str(bnb.fit(X_train, y_train).score(X_test, y_test))[:6])\n",
    "print('Testing on Sample: ' + str(bnb.fit(data, target).score(data, target))[:5])\n",
    "print('\\n')\n",
    "\n",
    "#perform 20-fold cross-validation\n",
    "print(\"20-fold cross-validation:\")\n",
    "print(cross_val_score(bnb, data, target, cv=20))\n",
    "print('\\n')\n",
    "\n",
    "#use 2x2 confusion matrix\n",
    "print(\"confusion matrix: \")\n",
    "print(confusion_matrix(target, y_pred))"
   ]
  },
  {
   "cell_type": "markdown",
   "metadata": {},
   "source": [
    "For model 2, the confusion matrix showed many more false positives (247) than false negatives (24). This indicates overfitting of the data. The cross validation also showed more fluctuation than in model 1, which also indicates over-fitting. For model 3 I'll use what I think are the best 26 features."
   ]
  },
  {
   "cell_type": "code",
   "execution_count": 105,
   "metadata": {},
   "outputs": [
    {
     "name": "stdout",
     "output_type": "stream",
     "text": [
      "accuracy after adding features: 0.6136363636363636\n",
      "\n",
      "\n",
      "With 20% Holdout: 0.5866\n",
      "With 40% Holdout: 0.6\n",
      "With 60% Holdout: 0.6124\n",
      "With 80% Holdout: 0.5759\n",
      "Testing on Sample: 0.613\n",
      "\n",
      "\n",
      "20-fold cross-validation:\n",
      "[0.58974359 0.48717949 0.60526316 0.60526316 0.55263158 0.63157895\n",
      " 0.64864865 0.62162162 0.67567568 0.59459459 0.54054054 0.64864865\n",
      " 0.62162162 0.64864865 0.59459459 0.64864865 0.48648649 0.72972973\n",
      " 0.67567568 0.62162162]\n",
      "\n",
      "\n",
      "confusion matrix: \n",
      "[[379   7]\n",
      " [282  80]]\n"
     ]
    }
   ],
   "source": [
    "#model 3: hand-selected 'best' features\n",
    "best_keywords = ['boring', 'awful', 'lame', 'predictable', \n",
    "                 'dumb', 'stupid',  'unfunny', 'disappointed', \n",
    "                 'pretentious', 'bad', 'waste', 'lousy', \n",
    "                 'amateurish', 'lacks', 'lacked', 'trash', \n",
    "                 'cheap', 'worst', 'terrible', 'annoying',\n",
    "                 'torture', 'unconvincing', 'flawed', \n",
    "                 'unwatchable', 'offensive', 'failed']\n",
    "\n",
    "for key in best_keywords:\n",
    "    text_raw[str(key)] = text_raw.message.str.contains(\n",
    "        ' ' + str(key) + ' ',\n",
    "        case=False\n",
    "    )\n",
    "text_raw['sentiment'] = (text_raw['sentiment'] == 0)\n",
    "    \n",
    "data = text_raw[best_keywords]\n",
    "target = text_raw['sentiment']\n",
    "\n",
    "from sklearn.naive_bayes import BernoulliNB\n",
    "bnb = BernoulliNB()\n",
    "bnb.fit(data, target)\n",
    "y_pred = bnb.predict(data)\n",
    "print(\"accuracy after adding features: {}\".format(\n",
    "    (1 - target != y_pred).sum() / data.shape[0]\n",
    "))\n",
    "print('\\n')\n",
    "\n",
    "# Use train_test_split to create the necessary training and test groups\n",
    "X_train, X_test, y_train, y_test = train_test_split(data, target, test_size=0.2, random_state=20)\n",
    "print('With 20% Holdout: ' + str(bnb.fit(X_train, y_train).score(X_test, y_test))[:6])\n",
    "X_train, X_test, y_train, y_test = train_test_split(data, target, test_size=0.4, random_state=20)\n",
    "print('With 40% Holdout: ' + str(bnb.fit(X_train, y_train).score(X_test, y_test))[:6])\n",
    "X_train, X_test, y_train, y_test = train_test_split(data, target, test_size=0.6, random_state=20)\n",
    "print('With 60% Holdout: ' + str(bnb.fit(X_train, y_train).score(X_test, y_test))[:6])\n",
    "X_train, X_test, y_train, y_test = train_test_split(data, target, test_size=0.8, random_state=20)\n",
    "print('With 80% Holdout: ' + str(bnb.fit(X_train, y_train).score(X_test, y_test))[:6])\n",
    "print('Testing on Sample: ' + str(bnb.fit(data, target).score(data, target))[:5])\n",
    "print('\\n')\n",
    "\n",
    "#perform 20-fold cross-validation\n",
    "print(\"20-fold cross-validation:\")\n",
    "print(cross_val_score(bnb, data, target, cv=20))\n",
    "print('\\n')\n",
    "\n",
    "#use 2x2 confusion matrix\n",
    "print(\"confusion matrix: \")\n",
    "print(confusion_matrix(target, y_pred))"
   ]
  },
  {
   "cell_type": "code",
   "execution_count": 106,
   "metadata": {},
   "outputs": [
    {
     "name": "stdout",
     "output_type": "stream",
     "text": [
      "['amateurish', 'annoying', 'appalling', 'artless', 'awful', 'bad', 'boring', 'cheap', 'contrived', 'derivative', 'disappointed', 'don', 'dry', 'dumb', 'failed', 'flawed', 'insipid', 'lacked', 'lacks', 'lame', 'lousy', 'message', 'moronic', 'not', 'offensive', 'predictable', 'premise', 'pretentious', 'sentiment', 'stupid', 'sucked', 'terrible', 'too', 'torture', 'trash', 'unconvincing', 'unfunny', 'unwatchable', 'utterly', 'waste', 'worst']\n",
      "[[0 0 0 ... 0 0 0]\n",
      " [0 0 0 ... 0 0 0]\n",
      " [0 0 0 ... 0 0 0]\n",
      " ...\n",
      " [0 0 0 ... 0 0 0]\n",
      " [0 0 0 ... 0 0 0]\n",
      " [0 0 0 ... 0 0 0]]\n"
     ]
    }
   ],
   "source": [
    "#try count vectorizer\n",
    "from sklearn.feature_extraction.text import CountVectorizer\n",
    "\n",
    "vectorizer = CountVectorizer(ngram_range=(1, 3), max_df=0.05, min_df=0.0001)\n",
    "X = vectorizer.fit_transform(text_raw)\n",
    "\n",
    "print(vectorizer.get_feature_names())\n",
    "print(X.toarray())\n"
   ]
  },
  {
   "cell_type": "markdown",
   "metadata": {},
   "source": [
    "To take this further, the next step wouuld be tuning the three count vectorizer parameters: ngram range, which I've set to phrases of 3 words, and max and min df, which I set to 5% and 0.01% respectively. Max df should eliminate very common words that don't give any indication of sentiment, like \"I\" and \"the,\" and min df should eliminate extremely uncommon words such as misspellings. "
   ]
  }
 ],
 "metadata": {
  "kernelspec": {
   "display_name": "Python 3",
   "language": "python",
   "name": "python3"
  },
  "language_info": {
   "codemirror_mode": {
    "name": "ipython",
    "version": 3
   },
   "file_extension": ".py",
   "mimetype": "text/x-python",
   "name": "python",
   "nbconvert_exporter": "python",
   "pygments_lexer": "ipython3",
   "version": "3.7.0"
  }
 },
 "nbformat": 4,
 "nbformat_minor": 2
}
