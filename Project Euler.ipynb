{
 "cells": [
  {
   "cell_type": "code",
   "execution_count": 68,
   "metadata": {},
   "outputs": [
    {
     "name": "stdout",
     "output_type": "stream",
     "text": [
      "Euler 1: \n",
      "233168\n",
      "\n",
      "Euler 2:\n",
      "7465175\n",
      "\n",
      "Euler 3:\n",
      "3919\n"
     ]
    }
   ],
   "source": [
    "import math\n",
    "import numpy as np\n",
    "\n",
    "# 1: If we list all the natural numbers below 10 that are multiples \n",
    "# of 3 or 5, we get 3, 5, 6 and 9. The sum of these multiples is 23.\n",
    "# Find the sum of all the multiples of 3 or 5 below 1000.\n",
    "\n",
    "def euler_1():\n",
    "    total = sum(num for num in range(1000) if (num % 3 == 0 or num % 5 == 0))\n",
    "    print(total)\n",
    "    \n",
    "print(\"Euler 1: \")\n",
    "euler_1()\n",
    "\n",
    "\n",
    "\n",
    "# 2: By considering the terms in the Fibonacci sequence whose values do \n",
    "# not exceed four million, find the sum of the even-valued terms.\n",
    "\n",
    "def euler_2():\n",
    "    total = 0\n",
    "    num = 1  \n",
    "    next_num = 2  \n",
    "    while num <= 4000000:\n",
    "        if num % 2 == 0:\n",
    "            total += next_num\n",
    "        num, next_num = next_num, num + next_num\n",
    "    print(total)\n",
    "    \n",
    "print(\"\\nEuler 2:\")\n",
    "euler_2()\n",
    "\n",
    "# 3: What is the largest prime factor of the number 600851475143?\n",
    "\n",
    "primes_list = [2]\n",
    "\n",
    "def primes(min, max):\n",
    "    if 2 >= min: yield 2\n",
    "    for i in range(3, max, 2):\n",
    "        for prime in primes_list:\n",
    "            if i % prime == 0 or prime * prime > i: break\n",
    "        if i % prime:\n",
    "            primes_list.append(i)\n",
    "            if i >= min: yield i\n",
    "\n",
    "def euler_3():\n",
    "    number = 317584931803\n",
    "    for prime in primes(2, number):\n",
    "        if number % prime == 0:\n",
    "            number /= prime\n",
    "            yield prime\n",
    "        if number == 1:\n",
    "            break\n",
    "    \n",
    "\n",
    "print(\"\\nEuler 3:\")\n",
    "print(max(euler_3()))"
   ]
  },
  {
   "cell_type": "code",
   "execution_count": 46,
   "metadata": {},
   "outputs": [
    {
     "name": "stdout",
     "output_type": "stream",
     "text": [
      "\n",
      "Euler 4:\n",
      "906609\n",
      "\n",
      "Euler 5:\n",
      "232792560\n",
      "\n",
      "Euler 6:\n",
      "25164150\n"
     ]
    }
   ],
   "source": [
    "#4: Find the largest palindrome made from the product of two 3-digit numbers.\n",
    "def euler_4():\n",
    "    pal = max(i * j\n",
    "        for i in range(100, 1000)\n",
    "        for j in range(100, 1000)\n",
    "        if str(i * j) == str(i * j)[ : : -1])\n",
    "    print(pal)\n",
    "\n",
    "print(\"\\nEuler 4:\")\n",
    "euler_4()\n",
    "\n",
    "#5: What is the smallest positive number that is evenly divisible by all \n",
    "# of the numbers from 1 to 20?\n",
    "def euler_5():\n",
    "    num = 1\n",
    "    for i in range(1, 21): \n",
    "        num = num *  (i // math.gcd(i, num))\n",
    "    print(num)\n",
    "\n",
    "print(\"\\nEuler 5:\")\n",
    "euler_5()\n",
    "\n",
    "\n",
    "#6: Find the difference between the sum of the squares of the first one \n",
    "# hundred natural numbers and the square of the sum.\n",
    "def euler_6():\n",
    "    num = 100\n",
    "    total1 = sum(i for i in range(1, num + 1))\n",
    "    total2 = sum(i**2 for i in range(1, num + 1))\n",
    "    result = total1 ** 2 - total2\n",
    "    print(result)\n",
    "    \n",
    "print(\"\\nEuler 6:\")\n",
    "euler_6()"
   ]
  },
  {
   "cell_type": "code",
   "execution_count": 52,
   "metadata": {},
   "outputs": [
    {
     "name": "stdout",
     "output_type": "stream",
     "text": [
      "\n",
      "Euler 7:\n",
      "1299721\n"
     ]
    }
   ],
   "source": [
    "# 7: What is the 10,001st prime number?\n",
    "def euler_7():\n",
    "    primes_list = [2]\n",
    "    num = 3\n",
    "    while len(primes_list) < 100001:\n",
    "        for prime_num in primes_list:\n",
    "            if num % prime_num == 0:\n",
    "                break\n",
    "        else:\n",
    "            primes_list.append(num)\n",
    "        num += 2\n",
    "    print(primes_list[-1])\n",
    "\n",
    "print(\"\\nEuler 7:\")\n",
    "euler_7()\n",
    "\n"
   ]
  },
  {
   "cell_type": "code",
   "execution_count": 49,
   "metadata": {},
   "outputs": [
    {
     "name": "stdout",
     "output_type": "stream",
     "text": [
      "Euler 8: \n",
      "23514624000\n"
     ]
    }
   ],
   "source": [
    "# 8:Find the thirteen adjacent digits in the given 1000-digit number that \n",
    "# have the greatest product. What is the value of this product?\n",
    "\n",
    "num = list('7316717653133062491922511967442657474235534919493496983520312774506326239578318016984801869478851843858615607891129494954595017379583319528532088055111254069874715852386305071569329096329522744304355766896648950445244523161731856403098711121722383113622298934233803081353362766142828064444866452387493035890729629049156044077239071381051585930796086670172427121883998797908792274921901699720888093776657273330010533678812202354218097512545405947522435258490771167055601360483958644670632441572215539753697817977846174064955149290862569321978468622482839722413756570560574902614079729686524145351004748216637048440319989000889524345065854122758866688116427171479924442928230863465674813919123162824586178664583591245665294765456828489128831426076900422421902267105562632111110937054421750694165896040807198403850962455444362981230987879927244284909188845801561660979191338754992005240636899125607176060588611646710940507754100225698315520005593572972571636269561882670428252483600823257530420752963450')\n",
    "\n",
    "def euler_8():\n",
    "    final_product = 0\n",
    "    for i in range(len(num) - 13):\n",
    "        current_digits = num[i: i+13]\n",
    "        product = np.prod([int(digit) for digit in current_digits])\n",
    "        if product > final_product:\n",
    "            final_product = product\n",
    "            final_digits = current_digits\n",
    "    print(final_product)\n",
    "\n",
    "print(\"Euler 8: \")\n",
    "euler_8()"
   ]
  },
  {
   "cell_type": "code",
   "execution_count": 50,
   "metadata": {},
   "outputs": [
    {
     "name": "stdout",
     "output_type": "stream",
     "text": [
      "euler_9:\n",
      "31875000.0\n"
     ]
    }
   ],
   "source": [
    "# 9: There exists exactly one Pythagorean triplet for which a + b + c = 1000.\n",
    "# Find the product abc.\n",
    "\n",
    "def euler_9():\n",
    "    for a in range(1, 500):\n",
    "        for b in range(1, 500):\n",
    "            c = np.sqrt(a**2 + b**2)\n",
    "            if a + b + c == 1000:\n",
    "                print(a*b*c)\n",
    "                return\n",
    "print(\"euler_9:\")\n",
    "euler_9()"
   ]
  },
  {
   "cell_type": "code",
   "execution_count": 64,
   "metadata": {},
   "outputs": [
    {
     "name": "stdout",
     "output_type": "stream",
     "text": [
      "110364\n"
     ]
    }
   ],
   "source": [
    "#10: Find the sum of all the primes below two million.\n",
    "\n",
    "# (verrrry slow)\n",
    "\n",
    "def nth_prime_number(n):\n",
    "    if n==1:\n",
    "        return 2\n",
    "    count = 1\n",
    "    num = 3\n",
    "    while(count <= n):\n",
    "        if is_prime(num):\n",
    "            count +=1\n",
    "            if count == n:\n",
    "               return num\n",
    "        num +=2 \n",
    "        \n",
    "def is_prime(num):\n",
    "    factor = 2\n",
    "    while (factor < num):\n",
    "        if num%factor == 0:\n",
    "             return False\n",
    "        factor +=1\n",
    "    return True \n",
    "\n",
    "def euler_10():\n",
    "    total = 0\n",
    "    for n in range(1,2000000):\n",
    "        total += nth_prime_number(n)\n",
    "    print(total)\n",
    "\n",
    "euler_10()"
   ]
  },
  {
   "cell_type": "code",
   "execution_count": null,
   "metadata": {},
   "outputs": [],
   "source": []
  }
 ],
 "metadata": {
  "kernelspec": {
   "display_name": "Python 3",
   "language": "python",
   "name": "python3"
  },
  "language_info": {
   "codemirror_mode": {
    "name": "ipython",
    "version": 3
   },
   "file_extension": ".py",
   "mimetype": "text/x-python",
   "name": "python",
   "nbconvert_exporter": "python",
   "pygments_lexer": "ipython3",
   "version": "3.7.0"
  }
 },
 "nbformat": 4,
 "nbformat_minor": 2
}
